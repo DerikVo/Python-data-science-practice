{
 "cells": [
  {
   "cell_type": "markdown",
   "id": "84695de9",
   "metadata": {
    "papermill": {
     "duration": 0.004453,
     "end_time": "2022-08-19T21:19:06.131381",
     "exception": false,
     "start_time": "2022-08-19T21:19:06.126928",
     "status": "completed"
    },
    "tags": []
   },
   "source": [
    "This section is Visualizing Data"
   ]
  },
  {
   "cell_type": "code",
   "execution_count": 1,
   "id": "c9098616",
   "metadata": {
    "_execution_state": "idle",
    "_uuid": "051d70d956493feee0c6d64651c6a088724dca2a",
    "execution": {
     "iopub.execute_input": "2022-08-19T21:19:06.140879Z",
     "iopub.status.busy": "2022-08-19T21:19:06.139556Z",
     "iopub.status.idle": "2022-08-19T21:19:06.388027Z",
     "shell.execute_reply": "2022-08-19T21:19:06.386923Z"
    },
    "papermill": {
     "duration": 0.255866,
     "end_time": "2022-08-19T21:19:06.390712",
     "exception": false,
     "start_time": "2022-08-19T21:19:06.134846",
     "status": "completed"
    },
    "tags": []
   },
   "outputs": [
    {
     "data": {
      "text/plain": [
       "Text(0, 0.5, 'USD')"
      ]
     },
     "execution_count": 1,
     "metadata": {},
     "output_type": "execute_result"
    },
    {
     "data": {
      "image/png": "[encoded data removed]",
      "text/plain": [
       "<Figure size 432x288 with 1 Axes>"
      ]
     },
     "metadata": {
      "needs_background": "light"
     },
     "output_type": "display_data"
    }
   ],
   "source": [
    "#matplotlib of my income everytime I enter a new stage in life\n",
    "\n",
    "from matplotlib import pyplot as plt\n",
    "years = [2011,2012,2016,2018,2020,2022]\n",
    "income = [0, 5000, 6500, 12000, 18000, 21000]\n",
    "Edu=['Highschool', 'Highschool', 'Highschool', 'Associates','Associates','BA']\n",
    "\n",
    "# creates a line chart\n",
    "plt.plot(years, income, color='blue', marker ='o', linestyle='solid')\n",
    "#Labels the plot\n",
    "plt.title(\"My income over the years\")\n",
    "plt.ylabel(\"USD\")"
   ]
  },
  {
   "cell_type": "code",
   "execution_count": 2,
   "id": "a3d219ba",
   "metadata": {
    "execution": {
     "iopub.execute_input": "2022-08-19T21:19:06.400272Z",
     "iopub.status.busy": "2022-08-19T21:19:06.399860Z",
     "iopub.status.idle": "2022-08-19T21:19:06.587480Z",
     "shell.execute_reply": "2022-08-19T21:19:06.586009Z"
    },
    "papermill": {
     "duration": 0.19567,
     "end_time": "2022-08-19T21:19:06.590201",
     "exception": false,
     "start_time": "2022-08-19T21:19:06.394531",
     "status": "completed"
    },
    "tags": []
   },
   "outputs": [
    {
     "data": {
      "image/png": "[encoded data removed]",
      "text/plain": [
       "<Figure size 432x288 with 1 Axes>"
      ]
     },
     "metadata": {
      "needs_background": "light"
     },
     "output_type": "display_data"
    }
   ],
   "source": [
    "#Creating bar Charts for music\n",
    "artist = [\"Radiohead\", \"Animals as Leaders\", \"Death Cab For Cutie\", \"MF Doom\"]\n",
    "songs = [47, 38, 40, 45] # random numbers, but represents the number of many songs I like\n",
    "\n",
    "#Creats the bar chart and centers them\n",
    "xs = [i +0.05 for i, _ in enumerate(artist)]\n",
    "plt.bar(xs, songs)\n",
    "\n",
    "#labels the chart\n",
    "plt.ylabel(\"Number of songs\")\n",
    "plt.title(\"My favorite artist\")\n",
    "\n",
    "#labels each bar and angels it for easier reading\n",
    "plt.xticks([i + 0.05 for i, _ in enumerate(artist)], artist)\n",
    "plt.xticks(rotation=45)\n",
    "\n",
    "plt.show()\n"
   ]
  },
  {
   "cell_type": "markdown",
   "id": "e4a219b8",
   "metadata": {
    "papermill": {
     "duration": 0.004159,
     "end_time": "2022-08-19T21:19:06.598716",
     "exception": false,
     "start_time": "2022-08-19T21:19:06.594557",
     "status": "completed"
    },
    "tags": []
   },
   "source": [
    "This section is web scrapping"
   ]
  },
  {
   "cell_type": "code",
   "execution_count": 3,
   "id": "f5096f26",
   "metadata": {
    "execution": {
     "iopub.execute_input": "2022-08-19T21:19:06.608978Z",
     "iopub.status.busy": "2022-08-19T21:19:06.608582Z",
     "iopub.status.idle": "2022-08-19T21:19:19.460144Z",
     "shell.execute_reply": "2022-08-19T21:19:19.458564Z"
    },
    "papermill": {
     "duration": 12.86056,
     "end_time": "2022-08-19T21:19:19.463666",
     "exception": false,
     "start_time": "2022-08-19T21:19:06.603106",
     "status": "completed"
    },
    "tags": []
   },
   "outputs": [
    {
     "name": "stdout",
     "output_type": "stream",
     "text": [
      "Requirement already satisfied: html5lib in /opt/conda/lib/python3.7/site-packages (1.1)\r\n",
      "Requirement already satisfied: six>=1.9 in /opt/conda/lib/python3.7/site-packages (from html5lib) (1.16.0)\r\n",
      "Requirement already satisfied: webencodings in /opt/conda/lib/python3.7/site-packages (from html5lib) (0.5.1)\r\n",
      "\u001b[33mWARNING: Running pip as the 'root' user can result in broken permissions and conflicting behaviour with the system package manager. It is recommended to use a virtual environment instead: https://pip.pypa.io/warnings/venv\u001b[0m\u001b[33m\r\n",
      "\u001b[0mNote: you may need to restart the kernel to use updated packages.\n"
     ]
    }
   ],
   "source": [
    "pip install html5lib"
   ]
  },
  {
   "cell_type": "code",
   "execution_count": 4,
   "id": "6895d772",
   "metadata": {
    "execution": {
     "iopub.execute_input": "2022-08-19T21:19:19.474764Z",
     "iopub.status.busy": "2022-08-19T21:19:19.474263Z",
     "iopub.status.idle": "2022-08-19T21:19:20.733235Z",
     "shell.execute_reply": "2022-08-19T21:19:20.731782Z"
    },
    "papermill": {
     "duration": 1.268275,
     "end_time": "2022-08-19T21:19:20.736309",
     "exception": false,
     "start_time": "2022-08-19T21:19:19.468034",
     "status": "completed"
    },
    "tags": []
   },
   "outputs": [],
   "source": [
    "#imports the lib for web scraping\n",
    "from bs4 import BeautifulSoup\n",
    "import requests\n",
    "html = requests.get(\"https://coopcareers.org/mission\").text\n",
    "soup = BeautifulSoup(html, 'html5lib')"
   ]
  },
  {
   "cell_type": "code",
   "execution_count": 5,
   "id": "f612d23c",
   "metadata": {
    "execution": {
     "iopub.execute_input": "2022-08-19T21:19:20.747371Z",
     "iopub.status.busy": "2022-08-19T21:19:20.746904Z",
     "iopub.status.idle": "2022-08-19T21:19:20.753669Z",
     "shell.execute_reply": "2022-08-19T21:19:20.752425Z"
    },
    "papermill": {
     "duration": 0.015114,
     "end_time": "2022-08-19T21:19:20.756244",
     "exception": false,
     "start_time": "2022-08-19T21:19:20.741130",
     "status": "completed"
    },
    "tags": []
   },
   "outputs": [
    {
     "name": "stdout",
     "output_type": "stream",
     "text": [
      "<p class=\"\" style=\"white-space:pre-wrap;\">Every college grad deserves a fair shot at a meaningful, upwardly mobile career. That’s the promise of higher education in America, and every year, millions of young people enroll, persist, and graduate on this premise, often with great sacrifice.</p>\n"
     ]
    }
   ],
   "source": [
    "#identifies a element on the website\n",
    "first_paragraph = soup.find('p') #finds the html element\n",
    "print(first_paragraph)"
   ]
  },
  {
   "cell_type": "code",
   "execution_count": 6,
   "id": "709f90b0",
   "metadata": {
    "execution": {
     "iopub.execute_input": "2022-08-19T21:19:20.766705Z",
     "iopub.status.busy": "2022-08-19T21:19:20.766268Z",
     "iopub.status.idle": "2022-08-19T21:19:20.774837Z",
     "shell.execute_reply": "2022-08-19T21:19:20.773379Z"
    },
    "papermill": {
     "duration": 0.017043,
     "end_time": "2022-08-19T21:19:20.777682",
     "exception": false,
     "start_time": "2022-08-19T21:19:20.760639",
     "status": "completed"
    },
    "tags": []
   },
   "outputs": [
    {
     "name": "stdout",
     "output_type": "stream",
     "text": [
      "Every college grad deserves a fair shot at a meaningful, upwardly mobile career. That’s the promise of higher education in America, and every year, millions of young people enroll, persist, and graduate on this premise, often with great sacrifice.\n",
      "['Every', 'college', 'grad', 'deserves', 'a', 'fair', 'shot', 'at', 'a', 'meaningful,', 'upwardly', 'mobile', 'career.', 'That’s', 'the', 'promise', 'of', 'higher', 'education', 'in', 'America,', 'and', 'every', 'year,', 'millions', 'of', 'young', 'people', 'enroll,', 'persist,', 'and', 'graduate', 'on', 'this', 'premise,', 'often', 'with', 'great', 'sacrifice.']\n"
     ]
    }
   ],
   "source": [
    "#converts that element into text\n",
    "first_paragraph_text = soup.p.text #extracts the text from the html element\n",
    "first_paragraph_words = soup.p.text.split() #parses the text\n",
    "#test to see what was extracted\n",
    "print(first_paragraph_text)\n",
    "print(first_paragraph_words)\n"
   ]
  },
  {
   "cell_type": "code",
   "execution_count": 7,
   "id": "73015edc",
   "metadata": {
    "execution": {
     "iopub.execute_input": "2022-08-19T21:19:20.789921Z",
     "iopub.status.busy": "2022-08-19T21:19:20.789258Z",
     "iopub.status.idle": "2022-08-19T21:19:20.799134Z",
     "shell.execute_reply": "2022-08-19T21:19:20.797785Z"
    },
    "papermill": {
     "duration": 0.01959,
     "end_time": "2022-08-19T21:19:20.802347",
     "exception": false,
     "start_time": "2022-08-19T21:19:20.782757",
     "status": "completed"
    },
    "tags": []
   },
   "outputs": [
    {
     "name": "stdout",
     "output_type": "stream",
     "text": [
      "[<p class=\"\" style=\"white-space:pre-wrap;\">Every college grad deserves a fair shot at a meaningful, upwardly mobile career. That’s the promise of higher education in America, and every year, millions of young people enroll, persist, and graduate on this premise, often with great sacrifice.</p>, <p class=\"\" style=\"white-space:pre-wrap;\">Yet nationwide, half of college grads (ages 21-27) are unemployed or underemployed, including more than two thirds of black college grads. (<a href=\"http://cepr.net/documents/black-coll-grads-2014-05.pdf\" target=\"_blank\">CEPR</a>)</p>, <p class=\"\" style=\"white-space:pre-wrap;\">Even in the digital economy, a bachelor’s degree is not enough. We need social capital—connections, casual favors, timely referrals—as much as we need skills. These favors travel quickly and organically across strong and weak social ties, but rarely across racial or economic lines.</p>, <p class=\"\" style=\"white-space:pre-wrap;\">Ultimately, a labor market powered by relationships will only reinforce the status quo, amplifying residential and school segregation in the professional sphere.</p>, <p class=\"\" style=\"white-space:pre-wrap;\">COOP closes the social capital gap by recruiting and investing deeply in diverse, low-income, and first-generation grads from the <a href=\"http://cuny.edu\" target=\"_blank\">City University of New York</a>, <a href=\"https://www2.calstate.edu/attend/campuses\">California State Universities</a>, and other urban public colleges.</p>, <p class=\"\" style=\"white-space:pre-wrap;\">COOP’s flagship program is the Digital Apprenticeship. <a href=\"/cohorts\">Peer cohorts</a> of 16 motivated, underemployed grads meet nightly for 16 weeks (200 hours) to learn technical skills, build community, and jumpstart careers in <a href=\"/digital-marketing\">digital marketing</a>, <a href=\"/data-analytics\">data analytics</a>, and <a href=\"https://coopcareers.org/tech-sales\">tech sales</a>.</p>, <p class=\"\" style=\"white-space:pre-wrap;\">Each cohort is led by a team of four captains, “near-peer” COOP alumni who serve as coaches, mentors, and guides on top of busy day jobs at local ad agencies and tech companies. In parallel, COOP helps these same <a href=\"/partners\">employers</a> meet, interview, and hire more and more diverse candidates.</p>, <p class=\"\" style=\"white-space:pre-wrap;\">Since 2014, COOP has run over 100<a href=\"/cohorts\"> cohorts</a> with over 2,000 alumni, on our way to 10,000 in our first decade of operation.</p>, <p class=\"\" style=\"white-space:pre-wrap;\">Four-in-five alumni <em>overcome underemployment</em> within a year, earning an average of $45,000 after 12 months (triple the pre-program average) and $60,000 after three years.</p>, <p class=\"\" style=\"white-space:pre-wrap;\">Long-term, COOP aims to double lifetime income of alumni—fueling upward mobility and fulfilling our collective promise of higher education.</p>, <p class=\"\" style=\"text-align:center;white-space:pre-wrap;\"><strong>COOP Careers Inc</strong> • EIN 83-1457260</p>, <p class=\"\" style=\"text-align:center;white-space:pre-wrap;\">1177 Avenue of the Americas, 5th Floor • New York, NY 10036</p>, <p class=\"\" style=\"text-align:center;white-space:pre-wrap;\">1390 Market Street, Suite 200 • San Francisco, CA 94102</p>, <p class=\"\" style=\"text-align:center;white-space:pre-wrap;\">980 North Michigan Avenue, Suite 1400 • Chicago, IL 60611</p>]\n"
     ]
    }
   ],
   "source": [
    "#finds everything withing the tags\n",
    "first_paragraph_id = soup.p('id')\n",
    "first_paragraph_id2 = soup.p.get('id')\n",
    "all_paragraphs = soup.find_all('p')\n",
    "paragraphs_with_ids = [p for p in soup('p') if p.get('id')]\n",
    "print(all_paragraphs)"
   ]
  },
  {
   "cell_type": "code",
   "execution_count": 8,
   "id": "3bf494a9",
   "metadata": {
    "execution": {
     "iopub.execute_input": "2022-08-19T21:19:20.813892Z",
     "iopub.status.busy": "2022-08-19T21:19:20.813209Z",
     "iopub.status.idle": "2022-08-19T21:19:20.823714Z",
     "shell.execute_reply": "2022-08-19T21:19:20.822200Z"
    },
    "papermill": {
     "duration": 0.020042,
     "end_time": "2022-08-19T21:19:20.827037",
     "exception": false,
     "start_time": "2022-08-19T21:19:20.806995",
     "status": "completed"
    },
    "tags": []
   },
   "outputs": [
    {
     "name": "stdout",
     "output_type": "stream",
     "text": [
      "[]\n"
     ]
    }
   ],
   "source": [
    "#finds tag with a specific class\n",
    "important_paragraphs = soup('p', {'class' : 'important'})\n",
    "important_paragraphs2 = soup('p', 'important')\n",
    "important_paragraphs3 = [p for p in soup('p') if 'important' in p.get('class', [])]\n",
    "print(important_paragraphs3)"
   ]
  }
 ],
 "metadata": {
  "kernelspec": {
   "display_name": "Python 3",
   "language": "python",
   "name": "python3"
  },
  "language_info": {
   "codemirror_mode": {
    "name": "ipython",
    "version": 3
   },
   "file_extension": ".py",
   "mimetype": "text/x-python",
   "name": "python",
   "nbconvert_exporter": "python",
   "pygments_lexer": "ipython3",
   "version": "3.7.12"
  },
  "papermill": {
   "default_parameters": {},
   "duration": 25.412399,
   "end_time": "2022-08-19T21:19:21.554264",
   "environment_variables": {},
   "exception": null,
   "input_path": "__notebook__.ipynb",
   "output_path": "__notebook__.ipynb",
   "parameters": {},
   "start_time": "2022-08-19T21:18:56.141865",
   "version": "2.3.4"
  }
 },
 "nbformat": 4,
 "nbformat_minor": 5
}
